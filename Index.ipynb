{
 "cells": [
  {
   "cell_type": "code",
   "execution_count": 14,
   "id": "8c8a1b40",
   "metadata": {},
   "outputs": [],
   "source": [
    "import pandas as pd\n",
    "import numpy as np\n",
    "import difflib\n",
    "from sklearn.feature_extraction.text import TfidfVectorizer\n",
    "from sklearn.metrics.pairwise import cosine_similarity"
   ]
  },
  {
   "cell_type": "code",
   "execution_count": 15,
   "id": "fffd903b",
   "metadata": {},
   "outputs": [],
   "source": [
    "# loading the data from the csv file to apandas datafram\n",
    "original_movies_data = pd.read_csv('movies.csv')\n",
    "movies_data = original_movies_data.copy()"
   ]
  },
  {
   "cell_type": "code",
   "execution_count": 16,
   "id": "ba998583",
   "metadata": {},
   "outputs": [],
   "source": [
    "# selecting the relevent features for recommendation\n",
    "selected_features = ['genres','keywords','tagline','cast','director']"
   ]
  },
  {
   "cell_type": "code",
   "execution_count": 17,
   "id": "de73ec74",
   "metadata": {},
   "outputs": [],
   "source": [
    "for feature in selected_features:\n",
    "    movies_data[feature] = movies_data[feature].fillna('')"
   ]
  },
  {
   "cell_type": "code",
   "execution_count": 18,
   "id": "a61880e5",
   "metadata": {},
   "outputs": [],
   "source": [
    "# combining all the 5 selected features\n",
    "combining_features = movies_data['genres']+' '+movies_data['keywords']+' '+movies_data['tagline']+' '+movies_data['cast']+' '+movies_data['director']"
   ]
  },
  {
   "cell_type": "code",
   "execution_count": 19,
   "id": "39655a1a",
   "metadata": {},
   "outputs": [],
   "source": [
    "# converting the text data to feature vectors\n",
    "\n",
    "vectorizer = TfidfVectorizer()\n",
    "feature_vectors = vectorizer.fit_transform(combining_features)"
   ]
  },
  {
   "cell_type": "code",
   "execution_count": 20,
   "id": "5f703a69",
   "metadata": {},
   "outputs": [],
   "source": [
    "# cosine similarity \n",
    "# getting similarity score using cosine similarity \n",
    "\n",
    "similarity = cosine_similarity(feature_vectors)"
   ]
  },
  {
   "cell_type": "code",
   "execution_count": 21,
   "id": "336f0d21",
   "metadata": {},
   "outputs": [
    {
     "name": "stdout",
     "output_type": "stream",
     "text": [
      "Suggested movies for you: \n",
      "\n",
      "1 . Thor\n",
      "2 . Thor: The Dark World\n",
      "3 . The Avengers\n",
      "4 . Cinderella\n",
      "5 . Avengers: Age of Ultron\n",
      "6 . Jack Ryan: Shadow Recruit\n",
      "7 . Captain America: The Winter Soldier\n",
      "8 . Hamlet\n",
      "9 . Henry V\n",
      "10 . Much Ado About Nothing\n",
      "11 . Pirates of the Caribbean: Dead Man's Chest\n",
      "12 . Angels & Demons\n",
      "13 . Pirates of the Caribbean: At World's End\n",
      "14 . Captain America: Civil War\n",
      "15 . City of Ghosts\n",
      "16 . Our Kind of Traitor\n",
      "17 . How to Train Your Dragon\n",
      "18 . Spider-Man 2\n",
      "19 . Ronin\n",
      "20 . Bad Company\n",
      "21 . Deadpool\n",
      "22 . The Amazing Spider-Man 2\n",
      "23 . Aberdeen\n",
      "24 . Iron Man 2\n",
      "25 . The Girl with the Dragon Tattoo\n",
      "26 . Warcraft\n",
      "27 . The Glass House\n",
      "28 . X-Men: Days of Future Past\n",
      "29 . Exorcist: The Beginning\n",
      "30 . Arn: The Knight Templar\n"
     ]
    }
   ],
   "source": [
    "# getting the movie name from the user\n",
    "input_movie_name = input('Please enter your favourite movie name: ')\n",
    "\n",
    "# creating a list with all the movies names given in the dataset\n",
    "list_of_all_titles = movies_data['title'].tolist()\n",
    "\n",
    "# fiding the close match for the movies name given by the user\n",
    "find_close_match = difflib.get_close_matches(input_movie_name, list_of_all_titles)\n",
    "close_match = find_close_match[0]\n",
    "\n",
    "# finding the index of the movie with title\n",
    "index_of_the_movie = movies_data[movies_data.title == close_match]['index'].values[0]\n",
    "\n",
    "# getting a list of similar movies\n",
    "similarity_score = list(enumerate(similarity[index_of_the_movie]))\n",
    "\n",
    "# sorting the movies based on their similarity score\n",
    "sorted_similarity_movies = sorted(similarity_score, key=lambda x:x[1],reverse=True)\n",
    "\n",
    "# print the name of the similar movies based on the index\n",
    "print('Suggested movies for you: \\n')\n",
    "i = 1\n",
    "for movie in sorted_similarity_movies:\n",
    "    index = movie[0]\n",
    "    title_from_index = movies_data[movies_data.index == index]['title'].values[0]\n",
    "    if i <= 30:\n",
    "        print(i,'.',title_from_index)\n",
    "        i+=1"
   ]
  }
 ],
 "metadata": {
  "kernelspec": {
   "display_name": "Python 3 (ipykernel)",
   "language": "python",
   "name": "python3"
  },
  "language_info": {
   "codemirror_mode": {
    "name": "ipython",
    "version": 3
   },
   "file_extension": ".py",
   "mimetype": "text/x-python",
   "name": "python",
   "nbconvert_exporter": "python",
   "pygments_lexer": "ipython3",
   "version": "3.11.5"
  }
 },
 "nbformat": 4,
 "nbformat_minor": 5
}
